{
 "cells": [
  {
   "cell_type": "code",
   "execution_count": null,
   "metadata": {},
   "outputs": [],
   "source": [
    "#Import\n",
    "from bs4 import BeautifulSoup as bs\n",
    "import os\n",
    "from splinter import Browser\n",
    "import time\n",
    "import pandas as pd\n",
    "import numpy as np\n"
   ]
  },
  {
   "cell_type": "code",
   "execution_count": null,
   "metadata": {},
   "outputs": [],
   "source": [
    "#URL for webpage\n",
    "news_url = \"https://mars.nasa.gov/news/\"\n",
    "browser.visit(news_url)"
   ]
  },
  {
   "cell_type": "code",
   "execution_count": null,
   "metadata": {},
   "outputs": [],
   "source": [
    "#Chromedriver \n",
    "executable_path = {'executable_path': 'chromedriver.exe'}\n",
    "browser = Browser('chrome', **executable_path, headless=False)"
   ]
  },
  {
   "cell_type": "code",
   "execution_count": null,
   "metadata": {},
   "outputs": [],
   "source": [
    "#beautiful soup into html\n",
    "html = browser.html\n",
    "soup = bs(html,\"html.parser\")"
   ]
  },
  {
   "cell_type": "code",
   "execution_count": null,
   "metadata": {},
   "outputs": [],
   "source": [
    "#looping\n",
    "news_title = soup.find(\"div\",class_=\"content_title\").text.strip()\n",
    "news_summaries = soup.find(\"div\", class_=\"article_teaser_body\").text.strip()\n",
    "print(news_title)\n",
    "print(news_summaries)"
   ]
  },
  {
   "cell_type": "code",
   "execution_count": null,
   "metadata": {},
   "outputs": [],
   "source": [
    "image_url = 'https://www.jpl.nasa.gov/spaceimages/?search=&category=Mars'\n",
    "browser.visit(image_url)\n",
    "image_html = browser.html\n",
    "soup = bs(image_html, 'html.parser')"
   ]
  },
  {
   "cell_type": "code",
   "execution_count": null,
   "metadata": {},
   "outputs": [],
   "source": [
    "#split url\n",
    "jpl_base_url = \"https://www.jpl.nasa.gov/\"\n",
    "url_space = \"spaceimages/?search=&category=Mars\" \n",
    "\n",
    "#joining the complete url\n",
    "jpl_url = f\"{jpl_base_url}{url_space}\""
   ]
  },
  {
   "cell_type": "code",
   "execution_count": null,
   "metadata": {},
   "outputs": [],
   "source": [
    "#Get image url using BeautifulSoup\n",
    "full_image = soup.find('a', class_ = 'button fancybox')['data-fancybox-href']\n",
    "full_image_url = jpl_base_url + full_image\n",
    "print(full_image_url)"
   ]
  },
  {
   "cell_type": "code",
   "execution_count": null,
   "metadata": {},
   "outputs": [],
   "source": [
    "#Mars latest weather from Twitter\n",
    "twitter_url = 'https://twitter.com/marswxreport?lang=en'\n",
    "browser.visit(twitter_url)\n",
    "twitter_html = browser.html\n",
    "soup = bs(twitter_html, 'html.parser')\n",
    "\n",
    "twitter_weather = soup.find('p', class_ =\"TweetTextSize TweetTextSize--normal js-tweet-text tweet-text\").text\n",
    "print(twitter_weather)"
   ]
  },
  {
   "cell_type": "code",
   "execution_count": null,
   "metadata": {},
   "outputs": [],
   "source": [
    "#scrape mars facts from table\n",
    "table_facts = \"https://space-facts.com/mars/\"\n",
    "table = pd.read_html(table_facts)"
   ]
  },
  {
   "cell_type": "code",
   "execution_count": null,
   "metadata": {},
   "outputs": [],
   "source": [
    "table_facts_df = table[0]\n",
    "table_facts_df.columns = [\"Parameter\", \"Values\"]\n",
    "table_facts_df.set_index([\"Parameter\"])\n",
    "table_factss_html = table_facts_df.to_html()\n",
    "print(table_factss_html)"
   ]
  },
  {
   "cell_type": "code",
   "execution_count": null,
   "metadata": {},
   "outputs": [],
   "source": [
    "table_factss_html = table_factss_html.replace(\"\\n\", \"\")\n",
    "print(table_factss_html)"
   ]
  },
  {
   "cell_type": "code",
   "execution_count": null,
   "metadata": {},
   "outputs": [],
   "source": [
    "#Scrape the Astro site in order to get images for each of Mars' hemisphere\n",
    "hem_url = 'https://astrogeology.usgs.gov/search/results?q=hemisphere+enhanced&k1=target&v1=Mars'\n",
    "browser.visit(hem_url)\n",
    "hem_html = browser.html\n",
    "soup = bs(browser.html, \"html.parser\")\n",
    "\n",
    "# base url\n",
    "hem_base = \"https://astrogeology.usgs.gov\"\n",
    "\n",
    "#empty list to store image urls \n",
    "hem_img_urls = []\n",
    "\n",
    "#obtain html and url\n",
    "hem_results = soup.find_all('div', class_='description')\n",
    "\n",
    "for result in hem_results:\n",
    " title = result.find('h3').text.strip()\n",
    "    img_url = result.find('a')['href']\n",
    "    img_complete_url = hem_url + img_url\n",
    "    browser.visit(img_complete_url)    \n",
    "    soup = bs(browser.html, \"html.parser\")\n",
    "    img_down = soup.find('div', class_='downloads')\n",
    "    complete_img_url = img_down.find('a')['href']\n",
    "    hem_img_urls.append({\"title\" : title, \"urls\": complete_img_url})\n",
    "    \n",
    "    print(hem_img_urls)\n"
   ]
  },
  {
   "cell_type": "code",
   "execution_count": null,
   "metadata": {},
   "outputs": [],
   "source": []
  }
 ],
 "metadata": {
  "kernelspec": {
   "display_name": "Python 3",
   "language": "python",
   "name": "python3"
  },
  "language_info": {
   "codemirror_mode": {
    "name": "ipython",
    "version": 3
   },
   "file_extension": ".py",
   "mimetype": "text/x-python",
   "name": "python",
   "nbconvert_exporter": "python",
   "pygments_lexer": "ipython3",
   "version": "3.7.2"
  }
 },
 "nbformat": 4,
 "nbformat_minor": 2
}
